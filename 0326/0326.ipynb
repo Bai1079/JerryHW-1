{
 "cells": [
  {
   "cell_type": "code",
   "execution_count": 14,
   "metadata": {},
   "outputs": [
    {
     "name": "stdout",
     "output_type": "stream",
     "text": [
      "輸入數字22\n"
     ]
    },
    {
     "data": {
      "text/plain": [
       "[122]"
      ]
     },
     "execution_count": 14,
     "metadata": {},
     "output_type": "execute_result"
    }
   ],
   "source": [
    "inpu = int(input(\"輸入數字: \"))\n",
    "list(map(lambda inpu : inpu +100,[inpu]))"
   ]
  },
  {
   "cell_type": "code",
   "execution_count": 79,
   "metadata": {},
   "outputs": [
    {
     "name": "stdout",
     "output_type": "stream",
     "text": [
      "結果: 11\n"
     ]
    },
    {
     "data": {
      "text/plain": [
       "('Multiply: ', 18)"
      ]
     },
     "execution_count": 79,
     "metadata": {},
     "output_type": "execute_result"
    }
   ],
   "source": [
    "def multiply(func):\n",
    "    def new_func(*args,**kwargs):\n",
    "        result = args[0]*args[1]\n",
    "        func(*args)\n",
    "        return (\"Multiply: \",result )\n",
    "    return new_func\n",
    "\n",
    "def add_func(a,b):\n",
    "    return ('結果:',a+b)\n",
    "\n",
    "@multiply\n",
    "def add_func(a,b):\n",
    "    return print('結果:',a+b)\n",
    "\n",
    "add_func(2,9)\n"
   ]
  },
  {
   "cell_type": "code",
   "execution_count": 80,
   "metadata": {},
   "outputs": [
    {
     "name": "stdout",
     "output_type": "stream",
     "text": [
      "整數:2.3\n",
      "出錯，請重新輸入\n"
     ]
    }
   ],
   "source": [
    "try:\n",
    "    int(input(\"整數:\"))\n",
    "except:\n",
    "    print(\"出錯，請重新輸入\")\n",
    "    "
   ]
  },
  {
   "cell_type": "markdown",
   "metadata": {},
   "source": []
  }
 ],
 "metadata": {
  "kernelspec": {
   "display_name": "Python 3",
   "language": "python",
   "name": "python3"
  },
  "language_info": {
   "codemirror_mode": {
    "name": "ipython",
    "version": 3
   },
   "file_extension": ".py",
   "mimetype": "text/x-python",
   "name": "python",
   "nbconvert_exporter": "python",
   "pygments_lexer": "ipython3",
   "version": "3.6.4"
  }
 },
 "nbformat": 4,
 "nbformat_minor": 2
}
