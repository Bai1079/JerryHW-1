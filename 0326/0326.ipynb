{
 "cells": [
  {
   "cell_type": "code",
   "execution_count": 1,
   "metadata": {},
   "outputs": [
    {
     "name": "stdout",
     "output_type": "stream",
     "text": [
      "輸入數字: 22\n"
     ]
    },
    {
     "data": {
      "text/plain": [
       "[122]"
      ]
     },
     "execution_count": 1,
     "metadata": {},
     "output_type": "execute_result"
    }
   ],
   "source": [
    "inpu = int(input(\"輸入數字: \"))\n",
    "list(map(lambda inpu : inpu +100,[inpu]))"
   ]
  },
  {
   "cell_type": "code",
   "execution_count": 2,
   "metadata": {},
   "outputs": [
    {
     "name": "stdout",
     "output_type": "stream",
     "text": [
      "結果: 8\n"
     ]
    },
    {
     "data": {
      "text/plain": [
       "('Multiply: ', 15)"
      ]
     },
     "execution_count": 2,
     "metadata": {},
     "output_type": "execute_result"
    }
   ],
   "source": [
    "def multiply(func):\n",
    "    def new_func(*args):\n",
    "        result = args[0]*args[1]\n",
    "        func(*args)\n",
    "        return (\"Multiply: \",result )\n",
    "    return new_func\n",
    "\n",
    "def add_func(a,b):\n",
    "    return ('結果:',a+b)\n",
    "\n",
    "@multiply\n",
    "def add_func(a,b):\n",
    "    return print('結果:',a+b)\n",
    "\n",
    "add_func(3,5)\n"
   ]
  },
  {
   "cell_type": "code",
   "execution_count": 3,
   "metadata": {},
   "outputs": [
    {
     "name": "stdout",
     "output_type": "stream",
     "text": [
      "整數:3\n"
     ]
    }
   ],
   "source": [
    "try:\n",
    "    int(input(\"整數:\"))\n",
    "except:\n",
    "    print(\"出錯，請重新輸入\")\n",
    "    "
   ]
  },
  {
   "cell_type": "code",
   "execution_count": 4,
   "metadata": {},
   "outputs": [
    {
     "name": "stdout",
     "output_type": "stream",
     "text": [
      "請輸入你要做的動作(+,-,*,/): +\n",
      "請輸入第一個數: 2\n",
      "請輸入第二個數: 3\n",
      "('計算的結果為: ', 5)\n"
     ]
    }
   ],
   "source": [
    "from source import Calculator\n",
    "x=input(\"請輸入你要做的動作(+,-,*,/): \")\n",
    "n1=int(input(\"請輸入第一個數: \"))\n",
    "n2=int(input(\"請輸入第二個數: \"))\n",
    "if x == \"+\":\n",
    "    print(Calculator.addfunc(n1,n2))\n",
    "elif x == \"-\":\n",
    "    print(Calculator.minusfunc(n1,n2))\n",
    "elif x == \"*\":\n",
    "    print(Calculator.multiplyfunc(n1,n2))\n",
    "else:\n",
    "    print(Calculator.dividefunc(n1,n2))\n"
   ]
  },
  {
   "cell_type": "code",
   "execution_count": null,
   "metadata": {},
   "outputs": [],
   "source": []
  }
 ],
 "metadata": {
  "kernelspec": {
   "display_name": "Python 3",
   "language": "python",
   "name": "python3"
  },
  "language_info": {
   "codemirror_mode": {
    "name": "ipython",
    "version": 3
   },
   "file_extension": ".py",
   "mimetype": "text/x-python",
   "name": "python",
   "nbconvert_exporter": "python",
   "pygments_lexer": "ipython3",
   "version": "3.6.4"
  }
 },
 "nbformat": 4,
 "nbformat_minor": 2
}
