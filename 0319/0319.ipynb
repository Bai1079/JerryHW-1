{
 "cells": [
  {
   "cell_type": "code",
   "execution_count": 17,
   "metadata": {},
   "outputs": [
    {
     "name": "stdout",
     "output_type": "stream",
     "text": [
      "請輸入數字:\n",
      "87\n"
     ]
    },
    {
     "data": {
      "text/plain": [
       "False"
      ]
     },
     "execution_count": 17,
     "metadata": {},
     "output_type": "execute_result"
    }
   ],
   "source": [
    "x = input(\"請輸入數字:\\n\")\n",
    "a = set(x)\n",
    "not(len(a) == len(x))\n"
   ]
  },
  {
   "cell_type": "code",
   "execution_count": 26,
   "metadata": {},
   "outputs": [
    {
     "name": "stdout",
     "output_type": "stream",
     "text": [
      "猜猜數字: 2\n",
      "猜猜數字: 3\n",
      "猜猜數字: 4\n",
      "猜猜數字: 5\n",
      "猜猜數字: 6\n",
      "猜猜數字: 7\n",
      "猜猜數字: 8\n"
     ]
    }
   ],
   "source": [
    "luckyNumber = 8\n",
    "a = True\n",
    "while (a == True):\n",
    "    x =int(input(\"猜猜數字: \"))\n",
    "    if (x == luckyNumber):\n",
    "        a = False"
   ]
  },
  {
   "cell_type": "code",
   "execution_count": 69,
   "metadata": {},
   "outputs": [
    {
     "name": "stdout",
     "output_type": "stream",
     "text": [
      "1\n",
      "2\n",
      "3\n",
      "4\n",
      "5\n",
      "6\n",
      "7\n",
      "8\n",
      "9\n",
      "2\n",
      "4\n",
      "6\n",
      "8\n",
      "10\n",
      "12\n",
      "14\n",
      "16\n",
      "18\n",
      "3\n",
      "6\n",
      "9\n",
      "12\n",
      "15\n",
      "18\n",
      "21\n",
      "24\n",
      "27\n",
      "4\n",
      "8\n",
      "12\n",
      "16\n",
      "20\n",
      "24\n",
      "28\n",
      "32\n",
      "36\n",
      "5\n",
      "10\n",
      "15\n",
      "20\n",
      "25\n",
      "30\n",
      "35\n",
      "40\n",
      "45\n",
      "6\n",
      "12\n",
      "18\n",
      "24\n",
      "30\n",
      "36\n",
      "42\n",
      "48\n",
      "54\n",
      "7\n",
      "14\n",
      "21\n",
      "28\n",
      "35\n",
      "42\n",
      "49\n",
      "56\n",
      "63\n",
      "8\n",
      "16\n",
      "24\n",
      "32\n",
      "40\n",
      "48\n",
      "56\n",
      "64\n",
      "72\n",
      "9\n",
      "18\n",
      "27\n",
      "36\n",
      "45\n",
      "54\n",
      "63\n",
      "72\n",
      "81\n"
     ]
    }
   ],
   "source": [
    "raw = [1,2,3,4,5,6,7,8,9]\n",
    "col = raw\n",
    "for i in range(len(raw)):\n",
    "    for j in range(len(col)):\n",
    "        print(raw[i]*col[j])"
   ]
  },
  {
   "cell_type": "code",
   "execution_count": 71,
   "metadata": {},
   "outputs": [
    {
     "data": {
      "text/plain": [
       "[1, 3, 5]"
      ]
     },
     "execution_count": 71,
     "metadata": {},
     "output_type": "execute_result"
    }
   ],
   "source": [
    "a_list = []\n",
    "for number in range(1,7):\n",
    "    if number % 2 == 1:\n",
    "        a_list.append(number)\n",
    "a_list"
   ]
  },
  {
   "cell_type": "markdown",
   "metadata": {},
   "source": [
    "# For迴圈 Comprehensions"
   ]
  },
  {
   "cell_type": "code",
   "execution_count": 31,
   "metadata": {},
   "outputs": [
    {
     "name": "stdout",
     "output_type": "stream",
     "text": [
      "1\n",
      "2\n",
      "3\n",
      "4\n",
      "5\n",
      "6\n",
      "7\n",
      "8\n",
      "9\n",
      "2\n",
      "4\n",
      "6\n",
      "8\n",
      "10\n",
      "12\n",
      "14\n",
      "16\n",
      "18\n",
      "3\n",
      "6\n",
      "9\n",
      "12\n",
      "15\n",
      "18\n",
      "21\n",
      "24\n",
      "27\n",
      "4\n",
      "8\n",
      "12\n",
      "16\n",
      "20\n",
      "24\n",
      "28\n",
      "32\n",
      "36\n",
      "5\n",
      "10\n",
      "15\n",
      "20\n",
      "25\n",
      "30\n",
      "35\n",
      "40\n",
      "45\n",
      "6\n",
      "12\n",
      "18\n",
      "24\n",
      "30\n",
      "36\n",
      "42\n",
      "48\n",
      "54\n",
      "7\n",
      "14\n",
      "21\n",
      "28\n",
      "35\n",
      "42\n",
      "49\n",
      "56\n",
      "63\n",
      "8\n",
      "16\n",
      "24\n",
      "32\n",
      "40\n",
      "48\n",
      "56\n",
      "64\n",
      "72\n",
      "9\n",
      "18\n",
      "27\n",
      "36\n",
      "45\n",
      "54\n",
      "63\n",
      "72\n",
      "81\n"
     ]
    }
   ],
   "source": [
    "elements = [(row*col)for row in range(1,10) for col in range(1,10)]\n",
    "for element in elements:\n",
    "    print(element)"
   ]
  },
  {
   "cell_type": "code",
   "execution_count": 22,
   "metadata": {},
   "outputs": [
    {
     "data": {
      "text/plain": [
       "'鋼鐵變成blue⼩精靈也不錯'"
      ]
     },
     "execution_count": 22,
     "metadata": {},
     "output_type": "execute_result"
    }
   ],
   "source": [
    "def iron_man_colors(a):\n",
    "    iron_man_color = a\n",
    "    if (iron_man_color == \"red\"):\n",
    "        return (\"鋼鐵盔甲是red的\")\n",
    "    elif iron_man_color == \"green\":\n",
    "        return (\"鋼鐵其實也可以參考浩克的green\")\n",
    "    elif iron_man_color == \"blue\":\n",
    "        return(\"鋼鐵變成blue⼩精靈也不錯\")\n",
    "    else:\n",
    "        return(\"沒這顏色\",iron_man_color)\n",
    "iron_man_colors(\"blue\")"
   ]
  },
  {
   "cell_type": "code",
   "execution_count": 28,
   "metadata": {},
   "outputs": [
    {
     "name": "stdout",
     "output_type": "stream",
     "text": [
      "請問你要做什麼動作(+,-,*,/): +\n",
      "請輸入第一個數字: 2\n",
      "請輸入第二個數字: 3\n",
      "5\n"
     ]
    }
   ],
   "source": [
    "def sumfunc(*args):\n",
    "    return sum(args)\n",
    "def subtractfunc(*args):\n",
    "    return args[0]-args[1]\n",
    "def multiplyfunc(*args):\n",
    "    return args[0]*args[1]\n",
    "def dividefunc(*args):\n",
    "    return args[0]/args[1]\n",
    "\n",
    "\n",
    "act= input(\"請問你要做什麼動作(+,-,*,/): \")\n",
    "n1 = int(input(\"請輸入第一個數字: \"))\n",
    "n2 = int(input(\"請輸入第二個數字: \"))\n",
    "if act == \"+\":\n",
    "    print(sumfunc(n1,n2))\n",
    "elif act == \"-\":\n",
    "    print(subtractfunc(n1,n2))\n",
    "elif act == \"*\":\n",
    "    print(multiplyfunc(n1,n2))\n",
    "else:\n",
    "    print(dividefunc(n1,n2))\n",
    "\n"
   ]
  },
  {
   "cell_type": "code",
   "execution_count": null,
   "metadata": {},
   "outputs": [],
   "source": []
  }
 ],
 "metadata": {
  "kernelspec": {
   "display_name": "Python 3",
   "language": "python",
   "name": "python3"
  },
  "language_info": {
   "codemirror_mode": {
    "name": "ipython",
    "version": 3
   },
   "file_extension": ".py",
   "mimetype": "text/x-python",
   "name": "python",
   "nbconvert_exporter": "python",
   "pygments_lexer": "ipython3",
   "version": "3.6.4"
  }
 },
 "nbformat": 4,
 "nbformat_minor": 2
}
